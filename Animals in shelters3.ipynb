{
 "cells": [
  {
   "cell_type": "code",
   "execution_count": 14,
   "metadata": {},
   "outputs": [],
   "source": [
    "import pandas as pd\n",
    "#load data, seperate into cats andd dogs\n",
    "\n",
    "df = pd.read_csv(\"../input/train.csv\")\n",
    "cats = df[df[\"AnimalType\"] == \"Cat\"]\n",
    "dogs = df[df[\"AnimalType\"] == \"Dog\"]"
   ]
  },
  {
   "cell_type": "code",
   "execution_count": 15,
   "metadata": {},
   "outputs": [
    {
     "name": "stdout",
     "output_type": "stream",
     "text": [
      "Total Cat Outcomes\n",
      "Transfer           5505\n",
      "Adoption           4272\n",
      "Euthanasia          710\n",
      "Return_to_owner     500\n",
      "Died                147\n",
      "Name: OutcomeType, dtype: int64\n",
      "Total Cats\n",
      "11134\n",
      "\n",
      "Total Dog Outcomes\n",
      "Adoption           6497\n",
      "Return_to_owner    4286\n",
      "Transfer           3917\n",
      "Euthanasia          845\n",
      "Died                 50\n",
      "Name: OutcomeType, dtype: int64\n",
      "Total Dogs\n",
      "15595\n"
     ]
    }
   ],
   "source": [
    "cat_outcomes = cats[\"OutcomeType\"].value_counts()\n",
    "cat_count = cats[\"OutcomeType\"].count()\n",
    "print(\"Total Cat Outcomes\")\n",
    "print(cat_outcomes)\n",
    "print(\"Total Cats\")\n",
    "print(cat_count)\n",
    "\n",
    "print(\"\\nTotal Dog Outcomes\")\n",
    "dog_outcomes = dogs[\"OutcomeType\"].value_counts()\n",
    "dog_count = dogs[\"OutcomeType\"].count()\n",
    "print(dog_outcomes)\n",
    "print(\"Total Dogs\")\n",
    "print(dog_count)"
   ]
  },
  {
   "cell_type": "code",
   "execution_count": 16,
   "metadata": {},
   "outputs": [
    {
     "name": "stdout",
     "output_type": "stream",
     "text": [
      "Percentage Cat Outcomes\n",
      "Transfer           49.443147\n",
      "Adoption           38.368960\n",
      "Euthanasia          6.376864\n",
      "Return_to_owner     4.490749\n",
      "Died                1.320280\n",
      "Name: OutcomeType, dtype: float64\n",
      "\n",
      "Percentage Dog Outcomes\n",
      "Adoption           41.660789\n",
      "Return_to_owner    27.483168\n",
      "Transfer           25.117025\n",
      "Euthanasia          5.418403\n",
      "Died                0.320616\n",
      "Name: OutcomeType, dtype: float64\n"
     ]
    }
   ],
   "source": [
    "pcent_cat_outcomes = cat_outcomes / cat_count * 100\n",
    "print(\"Percentage Cat Outcomes\")\n",
    "print(pcent_cat_outcomes)\n",
    "print(\"\\nPercentage Dog Outcomes\")\n",
    "pcent_dog_outcomes = dog_outcomes / dog_count * 100\n",
    "print(pcent_dog_outcomes)"
   ]
  },
  {
   "cell_type": "code",
   "execution_count": 17,
   "metadata": {},
   "outputs": [
    {
     "data": {
      "image/png": "[encoded data removed]",
      "text/plain": [
       "<Figure size 432x288 with 1 Axes>"
      ]
     },
     "metadata": {},
     "output_type": "display_data"
    }
   ],
   "source": [
    "import matplotlib.pyplot as plt, numpy as np\n",
    "\n",
    "cat_data = pcent_cat_outcomes.sort_index()\n",
    "dog_data = pcent_dog_outcomes.sort_index()\n",
    "\n",
    "ind = np.arange(len(cat_data))\n",
    "\n",
    "fig, ax = plt.subplots()\n",
    "bar_width = 0.35\n",
    "cat_g = plt.bar(ind,cat_data.values,bar_width,color='b',label='Cat')\n",
    "dog_g = plt.bar(ind+bar_width,dog_data.values,bar_width,color='r',label='Dog')\n",
    "plt.xticks(ind + bar_width,cat_data.index,rotation = 90)\n",
    "plt.legend()\n",
    "plt.show()"
   ]
  },
  {
   "cell_type": "code",
   "execution_count": 18,
   "metadata": {},
   "outputs": [
    {
     "name": "stdout",
     "output_type": "stream",
     "text": [
      "Suffering              1002\n",
      "Aggressive              320\n",
      "Behavior                 86\n",
      "Rabies Risk              74\n",
      "Medical                  66\n",
      "Court/Investigation       6\n",
      "Name: OutcomeSubtype, dtype: int64\n"
     ]
    }
   ],
   "source": [
    "euthanasia = df[df[\"OutcomeType\"] == \"Euthanasia\"]\n",
    "subtype = euthanasia[\"OutcomeSubtype\"].value_counts()\n",
    "print(subtype)"
   ]
  },
  {
   "cell_type": "code",
   "execution_count": 19,
   "metadata": {},
   "outputs": [
    {
     "data": {
      "image/png": "[encoded data removed]",
      "text/plain": [
       "<Figure size 432x288 with 1 Axes>"
      ]
     },
     "metadata": {},
     "output_type": "display_data"
    }
   ],
   "source": [
    "suffering = subtype[\"Suffering\"]\n",
    "behaviour = subtype[\"Aggressive\"] + subtype[\"Behavior\"]\n",
    "medical = subtype[\"Rabies Risk\"] + subtype[\"Medical\"]\n",
    "\n",
    "\n",
    "subtype_list = [suffering,behaviour,medical]\n",
    "list_names = [\"Suffering\",\"Behaviour\",\"Medical\"]\n",
    "ind2 = np.arange(len(subtype_list))\n",
    "\n",
    "plt.bar(ind2,subtype_list)\n",
    "plt.xticks(ind2,list_names, rotation = 90)\n",
    "plt.show()"
   ]
  },
  {
   "cell_type": "code",
   "execution_count": null,
   "metadata": {},
   "outputs": [],
   "source": []
  }
 ],
 "metadata": {
  "kernelspec": {
   "display_name": "Python 3",
   "language": "python",
   "name": "python3"
  },
  "language_info": {
   "codemirror_mode": {
    "name": "ipython",
    "version": 3
   },
   "file_extension": ".py",
   "mimetype": "text/x-python",
   "name": "python",
   "nbconvert_exporter": "python",
   "pygments_lexer": "ipython3",
   "version": "3.6.5"
  }
 },
 "nbformat": 4,
 "nbformat_minor": 2
}
